{
  "nbformat": 4,
  "nbformat_minor": 0,
  "metadata": {
    "colab": {
      "provenance": [],
      "authorship_tag": "ABX9TyNTYMx94xTfFDhGjjG0uYyz",
      "include_colab_link": true
    },
    "kernelspec": {
      "name": "python3",
      "display_name": "Python 3"
    },
    "language_info": {
      "name": "python"
    },
    "accelerator": "GPU",
    "gpuClass": "standard"
  },
  "cells": [
    {
      "cell_type": "markdown",
      "metadata": {
        "id": "view-in-github",
        "colab_type": "text"
      },
      "source": [
        "<a href=\"https://colab.research.google.com/github/ttdGit/ColabOpenApi/blob/main/OpenApiWhisperFromUTube.ipynb\" target=\"_parent\"><img src=\"https://colab.research.google.com/assets/colab-badge.svg\" alt=\"Open In Colab\"/></a>"
      ]
    },
    {
      "cell_type": "markdown",
      "source": [
        "Demostrates pip install, checking VM stuff, downloading uTube content, ffmpeg processing, process audio with Whisper OpenAPI, arrays, charting, CSV extraction,"
      ],
      "metadata": {
        "id": "M9cU7o0E-Lh8"
      }
    },
    {
      "cell_type": "code",
      "execution_count": null,
      "metadata": {
        "colab": {
          "base_uri": "https://localhost:8080/"
        },
        "id": "3oDZOwHxqGO9",
        "outputId": "b306595a-8155-466d-93be-3b0b6bc3f450"
      },
      "outputs": [
        {
          "output_type": "stream",
          "name": "stdout",
          "text": [
            "\u001b[K     |████████████████████████████████| 5.8 MB 4.9 MB/s \n",
            "\u001b[K     |████████████████████████████████| 7.6 MB 71.6 MB/s \n",
            "\u001b[K     |████████████████████████████████| 182 kB 56.0 MB/s \n",
            "\u001b[?25h  Building wheel for whisper (setup.py) ... \u001b[?25l\u001b[?25hdone\n"
          ]
        }
      ],
      "source": [
        "!pip install git+https://github.com/openai/whisper.git -q"
      ]
    },
    {
      "cell_type": "markdown",
      "source": [
        "We'll also make sure we have a GPU available in Google Colab. If you don't have a GPU, go to Runtime -> Change Runtime Type -> Hardware Accelator and select GPU. Run the command below to show which GPU is being used in the current runtime:\n",
        "You can upgrade to Colab Pro to get access to Premium GPU's."
      ],
      "metadata": {
        "id": "7fTSG7Pb2Hm-"
      }
    },
    {
      "cell_type": "code",
      "source": [
        "!nvidia-smi -L"
      ],
      "metadata": {
        "colab": {
          "base_uri": "https://localhost:8080/"
        },
        "id": "WZGzKxs52KkO",
        "outputId": "fad0d2f7-61c0-458d-f077-88b7ea0029b8"
      },
      "execution_count": null,
      "outputs": [
        {
          "output_type": "stream",
          "name": "stdout",
          "text": [
            "GPU 0: Tesla T4 (UUID: GPU-e8a83bfe-c3bb-abba-376d-8970bce98d5a)\n"
          ]
        }
      ]
    },
    {
      "cell_type": "markdown",
      "source": [
        "install pytube to get some content"
      ],
      "metadata": {
        "id": "2oLhqLCm3uOl"
      }
    },
    {
      "cell_type": "code",
      "source": [
        "!pip install pytube -q"
      ],
      "metadata": {
        "colab": {
          "base_uri": "https://localhost:8080/"
        },
        "id": "4Bc_p9Ao225H",
        "outputId": "15bb1366-d473-4b39-d6bb-e2d746307553"
      },
      "execution_count": null,
      "outputs": [
        {
          "output_type": "stream",
          "name": "stdout",
          "text": [
            "\u001b[?25l\r\u001b[K     |█████▊                          | 10 kB 27.3 MB/s eta 0:00:01\r\u001b[K     |███████████▌                    | 20 kB 9.1 MB/s eta 0:00:01\r\u001b[K     |█████████████████▎              | 30 kB 7.6 MB/s eta 0:00:01\r\u001b[K     |███████████████████████         | 40 kB 4.2 MB/s eta 0:00:01\r\u001b[K     |████████████████████████████▊   | 51 kB 4.6 MB/s eta 0:00:01\r\u001b[K     |████████████████████████████████| 57 kB 2.8 MB/s \n",
            "\u001b[?25h"
          ]
        }
      ]
    },
    {
      "cell_type": "code",
      "source": [
        "import whisper\n",
        "from pytube import YouTube"
      ],
      "metadata": {
        "id": "Jh_jDFOB3Ebl"
      },
      "execution_count": null,
      "outputs": []
    },
    {
      "cell_type": "markdown",
      "source": [
        "Whisper has a variety of models of varying sizes. The large model will be more accurate but will also be more resource intensive."
      ],
      "metadata": {
        "id": "V48JPJSE3U0W"
      }
    },
    {
      "cell_type": "markdown",
      "source": [
        "![image.png](data:image/png;base64,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)"
      ],
      "metadata": {
        "id": "bKOjr9k03XYe"
      }
    },
    {
      "cell_type": "markdown",
      "source": [
        "The base model will be sufficient for our needs. Let's load the base model like so:"
      ],
      "metadata": {
        "id": "ovLXx-ao3m3d"
      }
    },
    {
      "cell_type": "code",
      "source": [
        "model = whisper.load_model('base')"
      ],
      "metadata": {
        "colab": {
          "base_uri": "https://localhost:8080/"
        },
        "id": "r7O9cfVa3qH4",
        "outputId": "f7b4091b-bf49-4087-d3a2-51500c593b30"
      },
      "execution_count": null,
      "outputs": [
        {
          "output_type": "stream",
          "name": "stderr",
          "text": [
            "100%|███████████████████████████████████████| 139M/139M [00:02<00:00, 57.8MiB/s]\n"
          ]
        }
      ]
    },
    {
      "cell_type": "markdown",
      "source": [
        "We'll now instantiate a \"YouTube\" object by passing in the video URL. This will allow us to retrieve metadata and stream info about the specified YouTube URL."
      ],
      "metadata": {
        "id": "dCJGVa8935vu"
      }
    },
    {
      "cell_type": "code",
      "source": [
        "youtube_video_url = \"https://www.youtube.com/watch?v=NT2H9iyd-ms\"\n",
        "youtube_video = YouTube(youtube_video_url)"
      ],
      "metadata": {
        "id": "JKbQdIJ44Bdg"
      },
      "execution_count": null,
      "outputs": []
    },
    {
      "cell_type": "markdown",
      "source": [
        "Now that we have an pytube YouTube object, let's explore some of its attributes."
      ],
      "metadata": {
        "id": "nuPiRp1L4FqF"
      }
    },
    {
      "cell_type": "code",
      "source": [
        "youtube_video.title"
      ],
      "metadata": {
        "colab": {
          "base_uri": "https://localhost:8080/",
          "height": 35
        },
        "id": "k3zkIKFv4G0N",
        "outputId": "227adb4e-3498-4354-e9d7-75541bb20990"
      },
      "execution_count": null,
      "outputs": [
        {
          "output_type": "execute_result",
          "data": {
            "text/plain": [
              "'WATCH LIVE | Fed Chair Powell Discusses Latest Fed Rate Hike'"
            ],
            "application/vnd.google.colaboratory.intrinsic+json": {
              "type": "string"
            }
          },
          "metadata": {},
          "execution_count": 8
        }
      ]
    },
    {
      "cell_type": "code",
      "source": [
        "dir(youtube_video)"
      ],
      "metadata": {
        "id": "TUEu9Nhy4NJm"
      },
      "execution_count": null,
      "outputs": []
    },
    {
      "cell_type": "code",
      "source": [
        "youtube_video.streams"
      ],
      "metadata": {
        "id": "J2a_6mQK4ixP"
      },
      "execution_count": null,
      "outputs": []
    },
    {
      "cell_type": "code",
      "source": [
        "for stream in youtube_video.streams:\n",
        "  print(stream)"
      ],
      "metadata": {
        "id": "mw56KNmZ4r6X"
      },
      "execution_count": null,
      "outputs": []
    },
    {
      "cell_type": "markdown",
      "source": [
        "Get audio channels."
      ],
      "metadata": {
        "id": "YNq0R1TU46kd"
      }
    },
    {
      "cell_type": "code",
      "source": [
        "streams = youtube_video.streams.filter(only_audio=True)\n",
        "streams"
      ],
      "metadata": {
        "id": "T6_1gMYQ48ks"
      },
      "execution_count": null,
      "outputs": []
    },
    {
      "cell_type": "code",
      "source": [
        "stream = streams.first()\n",
        "stream\n",
        "stream.download(filename='fed_meeting.mp4')"
      ],
      "metadata": {
        "colab": {
          "base_uri": "https://localhost:8080/",
          "height": 35
        },
        "id": "h0u2Gcow5HG2",
        "outputId": "39e2c55a-fad1-4d4c-dee9-6bd061667b75"
      },
      "execution_count": null,
      "outputs": [
        {
          "output_type": "execute_result",
          "data": {
            "text/plain": [
              "'/content/fed_meeting.mp4'"
            ],
            "application/vnd.google.colaboratory.intrinsic+json": {
              "type": "string"
            }
          },
          "metadata": {},
          "execution_count": 14
        }
      ]
    },
    {
      "cell_type": "markdown",
      "source": [
        "Use ffmpeg to start the audio file at the 375 second mark and continue for 2715 seconds, The result will be saved in a new file."
      ],
      "metadata": {
        "id": "GeCoDAkn5k4t"
      }
    },
    {
      "cell_type": "code",
      "source": [
        "!ffmpeg -ss 378 -i fed_meeting.mp4 -t 2715 fed_meeting_trimmed.mp4"
      ],
      "metadata": {
        "id": "tRpU4M4w5kd9"
      },
      "execution_count": null,
      "outputs": []
    },
    {
      "cell_type": "markdown",
      "source": [
        "It is possible to embed an audio player into Google Colab, but will not do this for now since I have seen the runtime get disconnected on large audio files. If you want a copy of the resulting audio, you can download it locally using the Colab the file browser."
      ],
      "metadata": {
        "id": "aC8aLScq50BV"
      }
    },
    {
      "cell_type": "code",
      "source": [
        "import datetime\n",
        "\n",
        "# save a timestamp before transcription\n",
        "t1 = datetime.datetime.now()\n",
        "print(f\"started at {t1}\")\n",
        "\n",
        "# do the transcription\n",
        "output = model.transcribe(\"fed_meeting_trimmed.mp4\")\n",
        "\n",
        "# show time elapsed after transcription is complete.\n",
        "t2 = datetime.datetime.now()\n",
        "print(f\"ended at {t2}\")\n",
        "print(f\"time elapsed: {t2 - t1}\")"
      ],
      "metadata": {
        "colab": {
          "base_uri": "https://localhost:8080/"
        },
        "id": "4buor-dM6SBO",
        "outputId": "ec94211e-72be-41f8-93a2-cf1ab69461d9"
      },
      "execution_count": null,
      "outputs": [
        {
          "output_type": "stream",
          "name": "stdout",
          "text": [
            "started at 2023-01-02 23:55:41.967961\n",
            "ended at 2023-01-02 23:57:31.483380\n",
            "time elapsed: 0:01:49.515419\n"
          ]
        }
      ]
    },
    {
      "cell_type": "code",
      "source": [
        "output"
      ],
      "metadata": {
        "id": "pAemr7Qb8EWw"
      },
      "execution_count": null,
      "outputs": []
    },
    {
      "cell_type": "code",
      "source": [
        "for segment in output['segments']:\n",
        "  print(segment)\n",
        "  second = int(segment['start'])\n",
        "  second = second - (second % 5)\n",
        "  print(second)"
      ],
      "metadata": {
        "id": "p4EwnA8x8dCc"
      },
      "execution_count": null,
      "outputs": []
    },
    {
      "cell_type": "markdown",
      "source": [
        "Combining Speech Data with Price Data\n",
        "Now that we have this speech and the associated timestamps, we can go further by merging these segments into a dataframe containing price data. Let's see how the speech maps to the price of the S&P 500. I have retrieved 5 second OHLCV data for SPY using Interactive Brokers. A copy of this data and the code used to retrieve it are located on the website. We can upload spy.csv to Colab and process it using pandas."
      ],
      "metadata": {
        "id": "MSZHvXQ_9Ejo"
      }
    },
    {
      "cell_type": "code",
      "source": [
        "import pandas as pd \n",
        "spy = pd.read_csv(\"spy.csv\")"
      ],
      "metadata": {
        "id": "YHLTHzD49GAN"
      },
      "execution_count": null,
      "outputs": []
    },
    {
      "cell_type": "markdown",
      "source": [
        "In the dataframe below, you can see the open, high, low, and close for each 5 second time period that occurred during the speech."
      ],
      "metadata": {
        "id": "3zkbR7WN9O81"
      }
    },
    {
      "cell_type": "code",
      "source": [
        "spy"
      ],
      "metadata": {
        "id": "ZLaDdgNJ9RHO"
      },
      "execution_count": null,
      "outputs": []
    },
    {
      "cell_type": "markdown",
      "source": [
        "Since we already have the segments of the speech and their start and end times in seconds, we can add a new column containing the text that was spoken during each 5 second bar."
      ],
      "metadata": {
        "id": "jErmWfkP9W6s"
      }
    },
    {
      "cell_type": "code",
      "source": [
        "for segment in output['segments']:\n",
        "   second = int(segment['start'])\n",
        "   second = second - (second % 5)\n",
        "   spy.loc[second / 5, 'text'] = segment['text']\n",
        "\n",
        "spy"
      ],
      "metadata": {
        "id": "yq9uvzYW9ZzF"
      },
      "execution_count": null,
      "outputs": []
    },
    {
      "cell_type": "markdown",
      "source": [
        "Let's also create a new column called percent that stores the percent the price moved during the 5 second period."
      ],
      "metadata": {
        "id": "TIYnOwwH9hHL"
      }
    },
    {
      "cell_type": "code",
      "source": [
        "spy['percent'] = ((spy['close'] - spy['open']) / spy['open']) * 100\n",
        "spy"
      ],
      "metadata": {
        "id": "O_aLQUGt9izk"
      },
      "execution_count": null,
      "outputs": []
    },
    {
      "cell_type": "markdown",
      "source": [
        "We can now filter our dataframe to show bars where the price moved more than a certain percentage. To see where price moved down substantially in a 5 second period, we can filter like so:"
      ],
      "metadata": {
        "id": "B-bUqYpB9r-F"
      }
    },
    {
      "cell_type": "code",
      "source": [
        "big_downmoves = spy[spy.percent < -0.2]\n",
        "big_downmoves"
      ],
      "metadata": {
        "id": "Rv_XQzJ09tAj"
      },
      "execution_count": null,
      "outputs": []
    },
    {
      "cell_type": "markdown",
      "source": [
        "\n",
        "Let's quickly visualize this and zoom in on 14:36 using mplfinance:"
      ],
      "metadata": {
        "id": "DhmYBTEc9znq"
      }
    },
    {
      "cell_type": "code",
      "source": [
        "!pip install mplfinance -q\n",
        "import mplfinance as mpf\n",
        "\n",
        "df = spy\n",
        "df.index = pd.DatetimeIndex(df['date'])\n",
        "\n",
        "mpf.plot(df['2022-11-02 14:36':'2022-11-02 14:39'],type='candle')\n"
      ],
      "metadata": {
        "id": "n1_Hx9xH92kL"
      },
      "execution_count": null,
      "outputs": []
    },
    {
      "cell_type": "markdown",
      "source": [
        "As we can see above, price moved significantly starting at 14:36 (row 61), so we can see the words spoken that led up to this:"
      ],
      "metadata": {
        "id": "PXT7ah9i9840"
      }
    },
    {
      "cell_type": "code",
      "source": [
        "spy[50:70]"
      ],
      "metadata": {
        "id": "zhnxnn7a9_4b"
      },
      "execution_count": null,
      "outputs": []
    }
  ]
}